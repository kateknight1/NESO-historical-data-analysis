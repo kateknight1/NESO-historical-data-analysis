{
 "cells": [
  {
   "cell_type": "code",
   "execution_count": 1,
   "id": "98aa9d74-afcd-4e34-a1fc-9b83a3d6a98c",
   "metadata": {},
   "outputs": [],
   "source": [
    "# National Energy System Operator (NESO) Data"
   ]
  },
  {
   "cell_type": "code",
   "execution_count": null,
   "id": "ce83736c-5550-478e-a939-f63ee77ecb36",
   "metadata": {},
   "outputs": [],
   "source": []
  }
 ],
 "metadata": {
  "kernelspec": {
   "display_name": "Python 3 (ipykernel)",
   "language": "python",
   "name": "python3"
  },
  "language_info": {
   "codemirror_mode": {
    "name": "ipython",
    "version": 3
   },
   "file_extension": ".py",
   "mimetype": "text/x-python",
   "name": "python",
   "nbconvert_exporter": "python",
   "pygments_lexer": "ipython3",
   "version": "3.12.4"
  }
 },
 "nbformat": 4,
 "nbformat_minor": 5
}
